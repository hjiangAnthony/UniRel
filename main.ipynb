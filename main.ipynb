{
 "cells": [
  {
   "attachments": {},
   "cell_type": "markdown",
   "metadata": {},
   "source": [
    "# Set-up"
   ]
  },
  {
   "cell_type": "code",
   "execution_count": null,
   "metadata": {},
   "outputs": [],
   "source": []
  },
  {
   "cell_type": "code",
   "execution_count": null,
   "metadata": {},
   "outputs": [],
   "source": []
  },
  {
   "attachments": {},
   "cell_type": "markdown",
   "metadata": {},
   "source": [
    "# UniRel\n",
    "\n",
    "- Model:\n",
    "    - Github: https://github.com/wtangdev/unirel\n",
    "    - Paper: https://arxiv.org/abs/2211.09039"
   ]
  },
  {
   "cell_type": "code",
   "execution_count": 49,
   "metadata": {},
   "outputs": [
    {
     "data": {
      "text/plain": [
       "'from google.cloud import storage\\n\\ndef download_file_from_gcs(source_blob_name, destination_file_name):\\n    \"\"\"Downloads a file from Google Cloud Storage to the local directory.\"\"\"\\n    storage_client = storage.Client()\\n\\n    # Specify the GCS bucket and file path\\n    bucket_name = \"msca-sp23-bucket\"\\n    blob = storage_client.bucket(bucket_name).blob(source_blob_name)\\n\\n    # Download the file\\n    blob.download_to_filename(destination_file_name)\\n\\n# Call the function to download the file\\nsource_blob_name = \"capstone_data/UniRel.zip\"\\ndestination_file_name = \"/home/anthony/projects/capstone_runtime/UniRel.zip\"\\n\\ndownload_file_from_gcs(source_blob_name, destination_file_name)'"
      ]
     },
     "execution_count": 49,
     "metadata": {},
     "output_type": "execute_result"
    }
   ],
   "source": [
    "'''from google.cloud import storage\n",
    "\n",
    "def download_file_from_gcs(source_blob_name, destination_file_name):\n",
    "    \"\"\"Downloads a file from Google Cloud Storage to the local directory.\"\"\"\n",
    "    storage_client = storage.Client()\n",
    "\n",
    "    # Specify the GCS bucket and file path\n",
    "    bucket_name = \"msca-sp23-bucket\"\n",
    "    blob = storage_client.bucket(bucket_name).blob(source_blob_name)\n",
    "\n",
    "    # Download the file\n",
    "    blob.download_to_filename(destination_file_name)\n",
    "\n",
    "# Call the function to download the file\n",
    "source_blob_name = \"capstone_data/UniRel.zip\"\n",
    "destination_file_name = \"/home/anthony/projects/capstone_runtime/UniRel.zip\"\n",
    "\n",
    "download_file_from_gcs(source_blob_name, destination_file_name)'''"
   ]
  },
  {
   "cell_type": "code",
   "execution_count": 50,
   "metadata": {},
   "outputs": [],
   "source": [
    "import pandas as pd\n",
    "pd.set_option('display.max_rows', 100)\n",
    "pd.set_option('display.max_columns', None)\n",
    "pd.set_option('display.max_colwidth', 500)\n",
    "\n",
    "import warnings\n",
    "warnings.filterwarnings(\"ignore\")"
   ]
  },
  {
   "cell_type": "code",
   "execution_count": 51,
   "metadata": {},
   "outputs": [],
   "source": [
    "from predict import UniRel\n",
    "\n",
    "model_path = '/home/anthony/projects/capstone_runtime/UniRel'\n",
    "unirel = UniRel(model_path, dataset_name=\"nyt\")"
   ]
  },
  {
   "attachments": {},
   "cell_type": "markdown",
   "metadata": {},
   "source": [
    "## Test on sentences"
   ]
  },
  {
   "cell_type": "code",
   "execution_count": 52,
   "metadata": {},
   "outputs": [
    {
     "name": "stdout",
     "output_type": "stream",
     "text": [
      "[[('Bryan Kohberger', '/people/person/place_lived', 'Idaho')]]\n"
     ]
    }
   ],
   "source": [
    "text = 'Bryan Kohberger was accused of killing four Idaho college students in an early morning attack last year, according to new court documents.'\n",
    "print(unirel.predict(text))"
   ]
  },
  {
   "cell_type": "code",
   "execution_count": 53,
   "metadata": {},
   "outputs": [
    {
     "name": "stdout",
     "output_type": "stream",
     "text": [
      "[[('Bryan Kohberger', '/people/person/place_lived', 'Idaho')]]\n"
     ]
    }
   ],
   "source": [
    "text = 'Bryan Kohberger was accused of killing four Idaho college students in an early morning'\n",
    "print(unirel.predict(text))"
   ]
  },
  {
   "cell_type": "code",
   "execution_count": 54,
   "metadata": {},
   "outputs": [
    {
     "name": "stdout",
     "output_type": "stream",
     "text": [
      "[[]]\n"
     ]
    }
   ],
   "source": [
    "text = 'Bryan Kohberger was accused of killing four college students'\n",
    "print(unirel.predict(text))"
   ]
  },
  {
   "cell_type": "code",
   "execution_count": 55,
   "metadata": {},
   "outputs": [
    {
     "name": "stdout",
     "output_type": "stream",
     "text": [
      "[[('Timothy Donald Cook', '/business/person/company', 'Apple Inc.')]]\n"
     ]
    }
   ],
   "source": [
    "text = 'Timothy Donald Cook is an American business executive who has been the chief executive officer of Apple Inc. since 2011. '\n",
    "print(unirel.predict(text))"
   ]
  },
  {
   "cell_type": "code",
   "execution_count": 4,
   "metadata": {},
   "outputs": [
    {
     "name": "stdout",
     "output_type": "stream",
     "text": [
      "[[('China', '/location/location/contains', 'Jinghong'), ('Yunnan', '/location/administrative_division/country', 'China'), ('China', '/location/country/administrative_divisions', 'Yunnan'), ('Thailand', '/location/location/contains', 'Chiang Mai'), ('China', '/location/location/contains', 'Yunnan')]]\n"
     ]
    },
    {
     "name": "stderr",
     "output_type": "stream",
     "text": [
      "/opt/conda/envs/nlp/lib/python3.10/site-packages/transformers/modeling_utils.py:866: FutureWarning: The `device` argument is deprecated and will be removed in v5 of Transformers.\n",
      "  warnings.warn(\n"
     ]
    }
   ],
   "source": [
    "print(unirel.predict(\"In perhaps the most ambitious Mekong cruise attempt, Impulse Tourism, an operator based in Chiang Mai, Thailand, is organizing an expedition starting in November in Jinghong, a small city in the Yunnan province in China.\"))"
   ]
  },
  {
   "cell_type": "code",
   "execution_count": 6,
   "metadata": {},
   "outputs": [
    {
     "name": "stdout",
     "output_type": "stream",
     "text": [
      "[[]]\n"
     ]
    }
   ],
   "source": [
    "input_text = 'Sam commited a robbery last week.'\n",
    "print(unirel.predict(input_text))"
   ]
  },
  {
   "cell_type": "code",
   "execution_count": 8,
   "metadata": {},
   "outputs": [
    {
     "name": "stdout",
     "output_type": "stream",
     "text": [
      "[[('Sam', '/location/location/contains', 'Chase Bank')]]\n"
     ]
    }
   ],
   "source": [
    "input_text = 'Sam robbed the Chase Bank at 60611 last week.'\n",
    "print(unirel.predict(input_text))"
   ]
  },
  {
   "cell_type": "code",
   "execution_count": 9,
   "metadata": {},
   "outputs": [
    {
     "name": "stdout",
     "output_type": "stream",
     "text": [
      "[[('Peter', '/people/deceased_person/place_of_death', 'Sam')]]\n"
     ]
    }
   ],
   "source": [
    "input_text = 'Sam robbed Peter last week.'\n",
    "print(unirel.predict(input_text))"
   ]
  },
  {
   "cell_type": "code",
   "execution_count": 10,
   "metadata": {},
   "outputs": [
    {
     "name": "stdout",
     "output_type": "stream",
     "text": [
      "[[('Nirav Modi', '/people/person/nationality', 'India')]]\n"
     ]
    }
   ],
   "source": [
    "input_text = 'Diamond merchant Nirav Modi, accused in the Punjab National Bank (PNB) fraud and money laundering case, suffered another setback in his legal battle against his extradition to India.'\n",
    "print(unirel.predict(input_text))"
   ]
  },
  {
   "cell_type": "code",
   "execution_count": 11,
   "metadata": {},
   "outputs": [
    {
     "name": "stdout",
     "output_type": "stream",
     "text": [
      "[[('Nirav Modi', '/business/person/company', 'Punjab National Bank')]]\n"
     ]
    }
   ],
   "source": [
    "input_text = 'Diamond merchant Nirav Modi, accused in the Punjab National Bank (PNB) fraud and money laundering case, suffered another setback in his legal battle'\n",
    "print(unirel.predict(input_text))"
   ]
  },
  {
   "cell_type": "code",
   "execution_count": 14,
   "metadata": {},
   "outputs": [
    {
     "name": "stdout",
     "output_type": "stream",
     "text": [
      "[[]]\n"
     ]
    }
   ],
   "source": [
    "input_text = 'Nirav Modi was accused in the fraud and money laundering case'\n",
    "print(unirel.predict(input_text))"
   ]
  },
  {
   "attachments": {},
   "cell_type": "markdown",
   "metadata": {},
   "source": [
    "## Test sentences Meeting"
   ]
  },
  {
   "cell_type": "code",
   "execution_count": 56,
   "metadata": {},
   "outputs": [
    {
     "name": "stdout",
     "output_type": "stream",
     "text": [
      "[[('Liu Ti', '/people/person/nationality', 'China')]]\n"
     ]
    }
   ],
   "source": [
    "input_text = 'On April 21, Liu Ti, former deputy general manager of the Shanghai Stock Exchange, has been placed under investigation on suspicion of serious violations of duties, according to China Daily.'\n",
    "print(unirel.predict(input_text))"
   ]
  },
  {
   "cell_type": "code",
   "execution_count": 57,
   "metadata": {},
   "outputs": [
    {
     "name": "stdout",
     "output_type": "stream",
     "text": [
      "[[('Liu Ti', '/business/person/company', 'Shanghai Stock Exchange')]]\n"
     ]
    }
   ],
   "source": [
    "input_text = 'Liu Ti, former deputy general manager of the Shanghai Stock Exchange, has been placed under investigation on suspicion of serious violations of duties'\n",
    "print(unirel.predict(input_text))"
   ]
  },
  {
   "cell_type": "code",
   "execution_count": 58,
   "metadata": {},
   "outputs": [
    {
     "name": "stdout",
     "output_type": "stream",
     "text": [
      "[[]]\n"
     ]
    }
   ],
   "source": [
    "input_text = 'Liu Ti, former deputy general manager, has been placed under investigation on suspicion of serious violations of duties'\n",
    "print(unirel.predict(input_text))"
   ]
  },
  {
   "attachments": {},
   "cell_type": "markdown",
   "metadata": {},
   "source": [
    "# REBEL"
   ]
  },
  {
   "cell_type": "code",
   "execution_count": 1,
   "metadata": {},
   "outputs": [
    {
     "name": "stderr",
     "output_type": "stream",
     "text": [
      "2023-06-03 17:45:04.087055: I tensorflow/core/platform/cpu_feature_guard.cc:182] This TensorFlow binary is optimized to use available CPU instructions in performance-critical operations.\n",
      "To enable the following instructions: AVX2 FMA, in other operations, rebuild TensorFlow with the appropriate compiler flags.\n",
      "2023-06-03 17:45:05.074911: W tensorflow/compiler/tf2tensorrt/utils/py_utils.cc:38] TF-TRT Warning: Could not find TensorRT\n"
     ]
    },
    {
     "data": {
      "application/vnd.jupyter.widget-view+json": {
       "model_id": "12884db396974bfc820bed1d76c90c86",
       "version_major": 2,
       "version_minor": 0
      },
      "text/plain": [
       "Downloading (…)lve/main/config.json:   0%|          | 0.00/1.42k [00:00<?, ?B/s]"
      ]
     },
     "metadata": {},
     "output_type": "display_data"
    },
    {
     "data": {
      "application/vnd.jupyter.widget-view+json": {
       "model_id": "facabe0efe3841e1912590a7f3a3c9da",
       "version_major": 2,
       "version_minor": 0
      },
      "text/plain": [
       "Downloading pytorch_model.bin:   0%|          | 0.00/1.63G [00:00<?, ?B/s]"
      ]
     },
     "metadata": {},
     "output_type": "display_data"
    },
    {
     "data": {
      "application/vnd.jupyter.widget-view+json": {
       "model_id": "61b0c93cb85d4015923cc457072a1e90",
       "version_major": 2,
       "version_minor": 0
      },
      "text/plain": [
       "Downloading (…)okenizer_config.json:   0%|          | 0.00/1.23k [00:00<?, ?B/s]"
      ]
     },
     "metadata": {},
     "output_type": "display_data"
    },
    {
     "data": {
      "application/vnd.jupyter.widget-view+json": {
       "model_id": "c197ab6c3c524b18a526d35e2d00033b",
       "version_major": 2,
       "version_minor": 0
      },
      "text/plain": [
       "Downloading (…)olve/main/vocab.json:   0%|          | 0.00/798k [00:00<?, ?B/s]"
      ]
     },
     "metadata": {},
     "output_type": "display_data"
    },
    {
     "data": {
      "application/vnd.jupyter.widget-view+json": {
       "model_id": "25f16d6e8691410398fdd2f1cbf20541",
       "version_major": 2,
       "version_minor": 0
      },
      "text/plain": [
       "Downloading (…)olve/main/merges.txt:   0%|          | 0.00/456k [00:00<?, ?B/s]"
      ]
     },
     "metadata": {},
     "output_type": "display_data"
    },
    {
     "data": {
      "application/vnd.jupyter.widget-view+json": {
       "model_id": "b03edacbf0f54f7997376977e9279a0e",
       "version_major": 2,
       "version_minor": 0
      },
      "text/plain": [
       "Downloading (…)/main/tokenizer.json:   0%|          | 0.00/1.36M [00:00<?, ?B/s]"
      ]
     },
     "metadata": {},
     "output_type": "display_data"
    },
    {
     "data": {
      "application/vnd.jupyter.widget-view+json": {
       "model_id": "c534a78df36a4d94b2afa5b9e4d82c02",
       "version_major": 2,
       "version_minor": 0
      },
      "text/plain": [
       "Downloading (…)in/added_tokens.json:   0%|          | 0.00/123 [00:00<?, ?B/s]"
      ]
     },
     "metadata": {},
     "output_type": "display_data"
    },
    {
     "data": {
      "application/vnd.jupyter.widget-view+json": {
       "model_id": "61c49a35aeba47ca8ade35df8fb73ea8",
       "version_major": 2,
       "version_minor": 0
      },
      "text/plain": [
       "Downloading (…)cial_tokens_map.json:   0%|          | 0.00/344 [00:00<?, ?B/s]"
      ]
     },
     "metadata": {},
     "output_type": "display_data"
    },
    {
     "name": "stdout",
     "output_type": "stream",
     "text": [
      "<s><triplet> Punta Cana <subj> La Altagracia Province <obj> located in the administrative territorial entity <subj> Dominican Republic <obj> country <triplet> Higuey <subj> La Altagracia Province <obj> located in the administrative territorial entity <subj> Dominican Republic <obj> country <triplet> La Altagracia Province <subj> Dominican Republic <obj> country <triplet> Dominican Republic <subj> La Altagracia Province <obj> contains administrative territorial entity</s>\n",
      "[{'head': 'Punta Cana', 'type': 'located in the administrative territorial entity', 'tail': 'La Altagracia Province'}, {'head': 'Punta Cana', 'type': 'country', 'tail': 'Dominican Republic'}, {'head': 'Higuey', 'type': 'located in the administrative territorial entity', 'tail': 'La Altagracia Province'}, {'head': 'Higuey', 'type': 'country', 'tail': 'Dominican Republic'}, {'head': 'La Altagracia Province', 'type': 'country', 'tail': 'Dominican Republic'}, {'head': 'Dominican Republic', 'type': 'contains administrative territorial entity', 'tail': 'La Altagracia Province'}]\n"
     ]
    }
   ],
   "source": [
    "from transformers import pipeline\n",
    "\n",
    "triplet_extractor = pipeline('text2text-generation', model='Babelscape/rebel-large', tokenizer='Babelscape/rebel-large')\n",
    "\n",
    "# We need to use the tokenizer manually since we need special tokens.\n",
    "extracted_text = triplet_extractor.tokenizer.batch_decode([triplet_extractor(\"Punta Cana is a resort town in the municipality of Higuey, in La Altagracia Province, the eastern most province of the Dominican Republic\", return_tensors=True, return_text=False)[0][\"generated_token_ids\"]])\n",
    "\n",
    "print(extracted_text[0])\n",
    "\n",
    "# Function to parse the generated text and extract the triplets\n",
    "def extract_triplets(text):\n",
    "    triplets = []\n",
    "    relation, subject, relation, object_ = '', '', '', ''\n",
    "    text = text.strip()\n",
    "    current = 'x'\n",
    "    for token in text.replace(\"<s>\", \"\").replace(\"<pad>\", \"\").replace(\"</s>\", \"\").split():\n",
    "        if token == \"<triplet>\":\n",
    "            current = 't'\n",
    "            if relation != '':\n",
    "                triplets.append({'head': subject.strip(), 'type': relation.strip(),'tail': object_.strip()})\n",
    "                relation = ''\n",
    "            subject = ''\n",
    "        elif token == \"<subj>\":\n",
    "            current = 's'\n",
    "            if relation != '':\n",
    "                triplets.append({'head': subject.strip(), 'type': relation.strip(),'tail': object_.strip()})\n",
    "            object_ = ''\n",
    "        elif token == \"<obj>\":\n",
    "            current = 'o'\n",
    "            relation = ''\n",
    "        else:\n",
    "            if current == 't':\n",
    "                subject += ' ' + token\n",
    "            elif current == 's':\n",
    "                object_ += ' ' + token\n",
    "            elif current == 'o':\n",
    "                relation += ' ' + token\n",
    "    if subject != '' and relation != '' and object_ != '':\n",
    "        triplets.append({'head': subject.strip(), 'type': relation.strip(),'tail': object_.strip()})\n",
    "    return triplets\n",
    "extracted_triplets = extract_triplets(extracted_text[0])\n",
    "print(extracted_triplets)"
   ]
  },
  {
   "cell_type": "code",
   "execution_count": 12,
   "metadata": {},
   "outputs": [],
   "source": [
    "# test sentences\n",
    "raw_text_1 = 'Kevin Parkourana, 31, of San Jose was in custody in connection with the attacks Thursday, police from San Jose and the adjacent city of Milpitas announced Friday.'\n",
    "# raw_text_1 = 'Kevin Parkourana, 31, of San Jose was in custody in connection with the attacks Thursday'\n",
    "raw_text_2 = 'Luca Visentini, 53, charged but conditionally released, is the secretary general of the International Trade Union Confederation (ITUC), which brings together 332 unions and claims 200 million members in 163 countries.'"
   ]
  },
  {
   "cell_type": "code",
   "execution_count": 13,
   "metadata": {},
   "outputs": [
    {
     "data": {
      "text/plain": [
       "[{'head': 'San Jose', 'type': 'shares border with', 'tail': 'Milpitas'},\n",
       " {'head': 'Milpitas', 'type': 'shares border with', 'tail': 'San Jose'}]"
      ]
     },
     "execution_count": 13,
     "metadata": {},
     "output_type": "execute_result"
    }
   ],
   "source": [
    "def predict(text):\n",
    "    extracted_text = triplet_extractor.tokenizer.batch_decode([triplet_extractor(text, return_tensors=True, return_text=False)[0][\"generated_token_ids\"]])\n",
    "    extracted_triplets = extract_triplets(extracted_text[0])\n",
    "    return extracted_triplets\n",
    "\n",
    "predict(raw_text_1)"
   ]
  },
  {
   "cell_type": "code",
   "execution_count": 14,
   "metadata": {},
   "outputs": [
    {
     "data": {
      "text/plain": [
       "[{'head': 'Luca Visentini',\n",
       "  'type': 'member of',\n",
       "  'tail': 'International Trade Union Confederation'}]"
      ]
     },
     "execution_count": 14,
     "metadata": {},
     "output_type": "execute_result"
    }
   ],
   "source": [
    "predict(raw_text_2)"
   ]
  },
  {
   "cell_type": "code",
   "execution_count": 23,
   "metadata": {},
   "outputs": [
    {
     "data": {
      "text/plain": [
       "<spacy_component.RebelComponent at 0x7f2af986fa90>"
      ]
     },
     "execution_count": 23,
     "metadata": {},
     "output_type": "execute_result"
    }
   ],
   "source": [
    "import spacy\n",
    "nlp = spacy.load(\"en_core_web_md\")\n",
    "import spacy_component\n",
    "\n",
    "nlp.add_pipe(\"rebel\", after=\"senter\", config={\n",
    "    'device':-1, # Number of the GPU, -1 if want to use CPU\n",
    "    'model_name':'Babelscape/rebel-large'} # Model used, will default to 'Babelscape/rebel-large' if not given\n",
    "    )"
   ]
  },
  {
   "cell_type": "code",
   "execution_count": 37,
   "metadata": {},
   "outputs": [],
   "source": [
    "raw_text_3 = 'Kevin Parkourana was in custody in connection with the attacks Thursday, police announced Friday.'\n",
    "raw_text_4 = 'A short time later, the suspect struck a person on a motorized scooter'\n",
    "raw_text_5 = 'agents and police served a search warrant at an east Atlanta home and arrested Marlon Kautz and Adele Maclean, both from Atlanta'"
   ]
  },
  {
   "cell_type": "code",
   "execution_count": 33,
   "metadata": {},
   "outputs": [
    {
     "name": "stdout",
     "output_type": "stream",
     "text": [
      "(0, 9): {'relation': 'participant in', 'head_span': Kevin Parkourana, 'tail_span': attacks Thursday}\n",
      "(9, 0): {'relation': 'participant', 'head_span': attacks Thursday, 'tail_span': Kevin Parkourana}\n"
     ]
    }
   ],
   "source": [
    "input_sentence = raw_text_3\n",
    "                 \n",
    "doc = nlp(input_sentence)\n",
    "doc_list = nlp.pipe([input_sentence])\n",
    "for value, rel_dict in doc._.rel.items():\n",
    "    print(f\"{value}: {rel_dict}\")"
   ]
  },
  {
   "cell_type": "code",
   "execution_count": 36,
   "metadata": {},
   "outputs": [
    {
     "name": "stdout",
     "output_type": "stream",
     "text": [
      "(12, 7): {'relation': 'significant event', 'head_span': motorized scooter, 'tail_span': struck a person on a motorized scooter}\n"
     ]
    }
   ],
   "source": [
    "input_sentence = raw_text_4\n",
    "\n",
    "doc = nlp(input_sentence)\n",
    "doc_list = nlp.pipe([input_sentence])\n",
    "for value, rel_dict in doc._.rel.items():\n",
    "    print(f\"{value}: {rel_dict}\")"
   ]
  },
  {
   "cell_type": "code",
   "execution_count": 39,
   "metadata": {},
   "outputs": [
    {
     "name": "stdout",
     "output_type": "stream",
     "text": [
      "(9, 12): {'relation': 'spouse', 'head_span': Marlon Kautz, 'tail_span': Adele Maclean}\n",
      "(12, 9): {'relation': 'spouse', 'head_span': Adele Maclean, 'tail_span': Marlon Kautz}\n"
     ]
    }
   ],
   "source": [
    "#input_sentence = raw_text_5\n",
    "input_sentence = 'Agents and police served a search warrant and arrested Marlon Kautz and Adele Maclean'\n",
    "\n",
    "doc = nlp(input_sentence)\n",
    "doc_list = nlp.pipe([input_sentence])\n",
    "for value, rel_dict in doc._.rel.items():\n",
    "    print(f\"{value}: {rel_dict}\")"
   ]
  },
  {
   "cell_type": "code",
   "execution_count": 43,
   "metadata": {},
   "outputs": [
    {
     "name": "stdout",
     "output_type": "stream",
     "text": [
      "(14, 7): {'relation': 'located in the administrative territorial entity', 'head_span': attack last year, 'tail_span': Idaho}\n"
     ]
    }
   ],
   "source": [
    "input_sentence = 'Bryan Kohberger was accused of killing four Idaho college students in an early morning attack last year, according to new court documents.'\n",
    "\n",
    "doc = nlp(input_sentence)\n",
    "doc_list = nlp.pipe([input_sentence])\n",
    "for value, rel_dict in doc._.rel.items():\n",
    "    print(f\"{value}: {rel_dict}\")"
   ]
  },
  {
   "cell_type": "code",
   "execution_count": 47,
   "metadata": {},
   "outputs": [
    {
     "name": "stdout",
     "output_type": "stream",
     "text": [
      "(0, 7): {'relation': 'place of birth', 'head_span': Bryan Kohberger, 'tail_span': Idaho}\n"
     ]
    }
   ],
   "source": [
    "input_sentence = 'Bryan Kohberger was accused of killing four Idaho college students in an early morning'\n",
    "\n",
    "doc = nlp(input_sentence)\n",
    "doc_list = nlp.pipe([input_sentence])\n",
    "for value, rel_dict in doc._.rel.items():\n",
    "    print(f\"{value}: {rel_dict}\")"
   ]
  },
  {
   "cell_type": "code",
   "execution_count": 42,
   "metadata": {},
   "outputs": [
    {
     "name": "stdout",
     "output_type": "stream",
     "text": [
      "(0, 5): {'relation': 'significant event', 'head_span': Bryan Kohberger, 'tail_span': killing four college students}\n",
      "(5, 0): {'relation': 'participant', 'head_span': killing four college students, 'tail_span': Bryan Kohberger}\n"
     ]
    }
   ],
   "source": [
    "input_sentence = 'Bryan Kohberger was accused of killing four college students'\n",
    "\n",
    "doc = nlp(input_sentence)\n",
    "doc_list = nlp.pipe([input_sentence])\n",
    "for value, rel_dict in doc._.rel.items():\n",
    "    print(f\"{value}: {rel_dict}\")"
   ]
  },
  {
   "cell_type": "code",
   "execution_count": 59,
   "metadata": {},
   "outputs": [
    {
     "name": "stdout",
     "output_type": "stream",
     "text": [
      "(0, 4): {'relation': 'position held', 'head_span': Liu Ti, 'tail_span': deputy general manager}\n"
     ]
    }
   ],
   "source": [
    "input_sentence = 'Liu Ti, former deputy general manager, has been placed under investigation on suspicion of serious violations of duties'\n",
    "\n",
    "doc = nlp(input_sentence)\n",
    "doc_list = nlp.pipe([input_sentence])\n",
    "for value, rel_dict in doc._.rel.items():\n",
    "    print(f\"{value}: {rel_dict}\")"
   ]
  },
  {
   "cell_type": "code",
   "execution_count": 61,
   "metadata": {},
   "outputs": [],
   "source": [
    "input_sentence = 'Liu Ti has been placed under investigation on suspicion of serious violations of duties'\n",
    "\n",
    "doc = nlp(input_sentence)\n",
    "doc_list = nlp.pipe([input_sentence])\n",
    "for value, rel_dict in doc._.rel.items():\n",
    "    print(f\"{value}: {rel_dict}\")"
   ]
  },
  {
   "cell_type": "code",
   "execution_count": 62,
   "metadata": {},
   "outputs": [],
   "source": [
    "input_sentence = 'Liu Ti has arrested under investigation on suspicion of serious violations of duties'\n",
    "\n",
    "doc = nlp(input_sentence)\n",
    "doc_list = nlp.pipe([input_sentence])\n",
    "for value, rel_dict in doc._.rel.items():\n",
    "    print(f\"{value}: {rel_dict}\")"
   ]
  },
  {
   "cell_type": "code",
   "execution_count": 63,
   "metadata": {},
   "outputs": [
    {
     "name": "stdout",
     "output_type": "stream",
     "text": [
      "(3, 0): {'relation': 'participant', 'head_span': robbery last week, 'tail_span': Sam}\n",
      "(0, 3): {'relation': 'participant in', 'head_span': Sam, 'tail_span': robbery last week}\n"
     ]
    }
   ],
   "source": [
    "input_sentence = 'Sam commited a robbery last week.'\n",
    "\n",
    "doc = nlp(input_sentence)\n",
    "doc_list = nlp.pipe([input_sentence])\n",
    "for value, rel_dict in doc._.rel.items():\n",
    "    print(f\"{value}: {rel_dict}\")"
   ]
  },
  {
   "cell_type": "code",
   "execution_count": 68,
   "metadata": {},
   "outputs": [
    {
     "name": "stdout",
     "output_type": "stream",
     "text": [
      "(5, 0): {'relation': 'participant', 'head_span': paying a prostitute, 'tail_span': Peter Wang}\n"
     ]
    }
   ],
   "source": [
    "input_sentence = 'Peter Wang is arrested of paying a prostitute last week.'\n",
    "\n",
    "doc = nlp(input_sentence)\n",
    "doc_list = nlp.pipe([input_sentence])\n",
    "for value, rel_dict in doc._.rel.items():\n",
    "    print(f\"{value}: {rel_dict}\")"
   ]
  },
  {
   "cell_type": "code",
   "execution_count": 70,
   "metadata": {},
   "outputs": [
    {
     "name": "stdout",
     "output_type": "stream",
     "text": [
      "(0, 5): {'relation': 'instance of', 'head_span': Peter Wang, 'tail_span': mutiple crimes}\n"
     ]
    }
   ],
   "source": [
    "input_sentence = 'Peter Wang is charged with mutiple crimes.'\n",
    "\n",
    "doc = nlp(input_sentence)\n",
    "doc_list = nlp.pipe([input_sentence])\n",
    "for value, rel_dict in doc._.rel.items():\n",
    "    print(f\"{value}: {rel_dict}\")"
   ]
  },
  {
   "cell_type": "code",
   "execution_count": null,
   "metadata": {},
   "outputs": [],
   "source": []
  }
 ],
 "metadata": {
  "kernelspec": {
   "display_name": "nlp",
   "language": "python",
   "name": "python3"
  },
  "language_info": {
   "codemirror_mode": {
    "name": "ipython",
    "version": 3
   },
   "file_extension": ".py",
   "mimetype": "text/x-python",
   "name": "python",
   "nbconvert_exporter": "python",
   "pygments_lexer": "ipython3",
   "version": "3.10.0"
  },
  "orig_nbformat": 4
 },
 "nbformat": 4,
 "nbformat_minor": 2
}
